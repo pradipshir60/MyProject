{
 "cells": [
  {
   "cell_type": "markdown",
   "id": "659ccb1a",
   "metadata": {},
   "source": [
    "# Building a Logistic Regression\n",
    "Create a logistic regression based on the bank data provided.\n",
    "\n",
    "The data is based on the marketing campaign efforts of a Portuguese banking institution. The classification goal is to predict if the client will subscribe a term deposit (variable y).\n",
    "\n",
    "Note that the first column of the dataset is the index."
   ]
  },
  {
   "cell_type": "markdown",
   "id": "b256040e",
   "metadata": {},
   "source": [
    "# Import the relevant libraries"
   ]
  },
  {
   "cell_type": "code",
   "execution_count": 2,
   "id": "3b495b07",
   "metadata": {},
   "outputs": [],
   "source": [
    "import numpy as np\n",
    "import pandas as pd\n",
    "import matplotlib.pyplot as plt\n",
    "import seaborn as sns\n",
    "import statsmodels.api as sm\n",
    "sns.set()\n",
    "\n",
    "from scipy import stats\n",
    "stats.chisqprob = lambda chisq, df: stats.chi2.sf(chisq, df)"
   ]
  },
  {
   "cell_type": "markdown",
   "id": "ef7c70da",
   "metadata": {},
   "source": [
    "# Loading The DataSets"
   ]
  },
  {
   "cell_type": "code",
   "execution_count": 3,
   "id": "b3ec9fb2",
   "metadata": {},
   "outputs": [
    {
     "data": {
      "text/html": [
       "<div>\n",
       "<style scoped>\n",
       "    .dataframe tbody tr th:only-of-type {\n",
       "        vertical-align: middle;\n",
       "    }\n",
       "\n",
       "    .dataframe tbody tr th {\n",
       "        vertical-align: top;\n",
       "    }\n",
       "\n",
       "    .dataframe thead th {\n",
       "        text-align: right;\n",
       "    }\n",
       "</style>\n",
       "<table border=\"1\" class=\"dataframe\">\n",
       "  <thead>\n",
       "    <tr style=\"text-align: right;\">\n",
       "      <th></th>\n",
       "      <th>Unnamed: 0</th>\n",
       "      <th>duration</th>\n",
       "      <th>y</th>\n",
       "    </tr>\n",
       "  </thead>\n",
       "  <tbody>\n",
       "    <tr>\n",
       "      <th>0</th>\n",
       "      <td>0</td>\n",
       "      <td>117</td>\n",
       "      <td>no</td>\n",
       "    </tr>\n",
       "    <tr>\n",
       "      <th>1</th>\n",
       "      <td>1</td>\n",
       "      <td>274</td>\n",
       "      <td>yes</td>\n",
       "    </tr>\n",
       "    <tr>\n",
       "      <th>2</th>\n",
       "      <td>2</td>\n",
       "      <td>167</td>\n",
       "      <td>no</td>\n",
       "    </tr>\n",
       "    <tr>\n",
       "      <th>3</th>\n",
       "      <td>3</td>\n",
       "      <td>686</td>\n",
       "      <td>yes</td>\n",
       "    </tr>\n",
       "    <tr>\n",
       "      <th>4</th>\n",
       "      <td>4</td>\n",
       "      <td>157</td>\n",
       "      <td>no</td>\n",
       "    </tr>\n",
       "  </tbody>\n",
       "</table>\n",
       "</div>"
      ],
      "text/plain": [
       "   Unnamed: 0  duration    y\n",
       "0           0       117   no\n",
       "1           1       274  yes\n",
       "2           2       167   no\n",
       "3           3       686  yes\n",
       "4           4       157   no"
      ]
     },
     "execution_count": 3,
     "metadata": {},
     "output_type": "execute_result"
    }
   ],
   "source": [
    "df = pd.read_csv(\"Example_bank_data.csv\")\n",
    "df.head()"
   ]
  },
  {
   "cell_type": "markdown",
   "id": "884175d1",
   "metadata": {},
   "source": [
    "We want to know whether the bank marketing strategy was successful, so we need to transform the outcome variable into 0s and 1s in order to perform a logistic regression."
   ]
  },
  {
   "cell_type": "markdown",
   "id": "5a056502",
   "metadata": {},
   "source": [
    "We make sure to create a copy of the data before we start altering itNote that we don't change the original data we loaded."
   ]
  },
  {
   "cell_type": "code",
   "execution_count": 4,
   "id": "e7e40741",
   "metadata": {},
   "outputs": [],
   "source": [
    "data = df.copy()"
   ]
  },
  {
   "cell_type": "markdown",
   "id": "d1d88269",
   "metadata": {},
   "source": [
    "In the Given dataset Unnamed:0 is not used so we drop"
   ]
  },
  {
   "cell_type": "code",
   "execution_count": 5,
   "id": "b878aa19",
   "metadata": {},
   "outputs": [
    {
     "data": {
      "text/html": [
       "<div>\n",
       "<style scoped>\n",
       "    .dataframe tbody tr th:only-of-type {\n",
       "        vertical-align: middle;\n",
       "    }\n",
       "\n",
       "    .dataframe tbody tr th {\n",
       "        vertical-align: top;\n",
       "    }\n",
       "\n",
       "    .dataframe thead th {\n",
       "        text-align: right;\n",
       "    }\n",
       "</style>\n",
       "<table border=\"1\" class=\"dataframe\">\n",
       "  <thead>\n",
       "    <tr style=\"text-align: right;\">\n",
       "      <th></th>\n",
       "      <th>duration</th>\n",
       "      <th>y</th>\n",
       "    </tr>\n",
       "  </thead>\n",
       "  <tbody>\n",
       "    <tr>\n",
       "      <th>0</th>\n",
       "      <td>117</td>\n",
       "      <td>no</td>\n",
       "    </tr>\n",
       "    <tr>\n",
       "      <th>1</th>\n",
       "      <td>274</td>\n",
       "      <td>yes</td>\n",
       "    </tr>\n",
       "    <tr>\n",
       "      <th>2</th>\n",
       "      <td>167</td>\n",
       "      <td>no</td>\n",
       "    </tr>\n",
       "    <tr>\n",
       "      <th>3</th>\n",
       "      <td>686</td>\n",
       "      <td>yes</td>\n",
       "    </tr>\n",
       "    <tr>\n",
       "      <th>4</th>\n",
       "      <td>157</td>\n",
       "      <td>no</td>\n",
       "    </tr>\n",
       "  </tbody>\n",
       "</table>\n",
       "</div>"
      ],
      "text/plain": [
       "   duration    y\n",
       "0       117   no\n",
       "1       274  yes\n",
       "2       167   no\n",
       "3       686  yes\n",
       "4       157   no"
      ]
     },
     "execution_count": 5,
     "metadata": {},
     "output_type": "execute_result"
    }
   ],
   "source": [
    "data = data.drop(['Unnamed: 0'], axis = 1)\n",
    "data.head()"
   ]
  },
  {
   "cell_type": "markdown",
   "id": "2dd6d07a",
   "metadata": {},
   "source": [
    "We use the map function to change any 'yes' values to 1 and 'no' values to 0. "
   ]
  },
  {
   "cell_type": "code",
   "execution_count": 6,
   "id": "0b3745cc",
   "metadata": {},
   "outputs": [
    {
     "data": {
      "text/html": [
       "<div>\n",
       "<style scoped>\n",
       "    .dataframe tbody tr th:only-of-type {\n",
       "        vertical-align: middle;\n",
       "    }\n",
       "\n",
       "    .dataframe tbody tr th {\n",
       "        vertical-align: top;\n",
       "    }\n",
       "\n",
       "    .dataframe thead th {\n",
       "        text-align: right;\n",
       "    }\n",
       "</style>\n",
       "<table border=\"1\" class=\"dataframe\">\n",
       "  <thead>\n",
       "    <tr style=\"text-align: right;\">\n",
       "      <th></th>\n",
       "      <th>duration</th>\n",
       "      <th>y</th>\n",
       "    </tr>\n",
       "  </thead>\n",
       "  <tbody>\n",
       "    <tr>\n",
       "      <th>0</th>\n",
       "      <td>117</td>\n",
       "      <td>0</td>\n",
       "    </tr>\n",
       "    <tr>\n",
       "      <th>1</th>\n",
       "      <td>274</td>\n",
       "      <td>1</td>\n",
       "    </tr>\n",
       "    <tr>\n",
       "      <th>2</th>\n",
       "      <td>167</td>\n",
       "      <td>0</td>\n",
       "    </tr>\n",
       "    <tr>\n",
       "      <th>3</th>\n",
       "      <td>686</td>\n",
       "      <td>1</td>\n",
       "    </tr>\n",
       "    <tr>\n",
       "      <th>4</th>\n",
       "      <td>157</td>\n",
       "      <td>0</td>\n",
       "    </tr>\n",
       "  </tbody>\n",
       "</table>\n",
       "</div>"
      ],
      "text/plain": [
       "   duration  y\n",
       "0       117  0\n",
       "1       274  1\n",
       "2       167  0\n",
       "3       686  1\n",
       "4       157  0"
      ]
     },
     "execution_count": 6,
     "metadata": {},
     "output_type": "execute_result"
    }
   ],
   "source": [
    "data['y'] = data['y'].map({'yes':1, 'no':0})\n",
    "data.head()"
   ]
  },
  {
   "cell_type": "markdown",
   "id": "aa67f7fb",
   "metadata": {},
   "source": [
    "# Check the descriptive statistics"
   ]
  },
  {
   "cell_type": "code",
   "execution_count": 7,
   "id": "60485305",
   "metadata": {},
   "outputs": [
    {
     "data": {
      "text/html": [
       "<div>\n",
       "<style scoped>\n",
       "    .dataframe tbody tr th:only-of-type {\n",
       "        vertical-align: middle;\n",
       "    }\n",
       "\n",
       "    .dataframe tbody tr th {\n",
       "        vertical-align: top;\n",
       "    }\n",
       "\n",
       "    .dataframe thead th {\n",
       "        text-align: right;\n",
       "    }\n",
       "</style>\n",
       "<table border=\"1\" class=\"dataframe\">\n",
       "  <thead>\n",
       "    <tr style=\"text-align: right;\">\n",
       "      <th></th>\n",
       "      <th>duration</th>\n",
       "      <th>y</th>\n",
       "    </tr>\n",
       "  </thead>\n",
       "  <tbody>\n",
       "    <tr>\n",
       "      <th>count</th>\n",
       "      <td>518.000000</td>\n",
       "      <td>518.000000</td>\n",
       "    </tr>\n",
       "    <tr>\n",
       "      <th>mean</th>\n",
       "      <td>382.177606</td>\n",
       "      <td>0.500000</td>\n",
       "    </tr>\n",
       "    <tr>\n",
       "      <th>std</th>\n",
       "      <td>344.295990</td>\n",
       "      <td>0.500483</td>\n",
       "    </tr>\n",
       "    <tr>\n",
       "      <th>min</th>\n",
       "      <td>9.000000</td>\n",
       "      <td>0.000000</td>\n",
       "    </tr>\n",
       "    <tr>\n",
       "      <th>25%</th>\n",
       "      <td>155.000000</td>\n",
       "      <td>0.000000</td>\n",
       "    </tr>\n",
       "    <tr>\n",
       "      <th>50%</th>\n",
       "      <td>266.500000</td>\n",
       "      <td>0.500000</td>\n",
       "    </tr>\n",
       "    <tr>\n",
       "      <th>75%</th>\n",
       "      <td>482.750000</td>\n",
       "      <td>1.000000</td>\n",
       "    </tr>\n",
       "    <tr>\n",
       "      <th>max</th>\n",
       "      <td>2653.000000</td>\n",
       "      <td>1.000000</td>\n",
       "    </tr>\n",
       "  </tbody>\n",
       "</table>\n",
       "</div>"
      ],
      "text/plain": [
       "          duration           y\n",
       "count   518.000000  518.000000\n",
       "mean    382.177606    0.500000\n",
       "std     344.295990    0.500483\n",
       "min       9.000000    0.000000\n",
       "25%     155.000000    0.000000\n",
       "50%     266.500000    0.500000\n",
       "75%     482.750000    1.000000\n",
       "max    2653.000000    1.000000"
      ]
     },
     "execution_count": 7,
     "metadata": {},
     "output_type": "execute_result"
    }
   ],
   "source": [
    "data.describe()"
   ]
  },
  {
   "cell_type": "markdown",
   "id": "f5cc0b39",
   "metadata": {},
   "source": [
    "# Declare The Dependent Variable And Independent"
   ]
  },
  {
   "cell_type": "code",
   "execution_count": 8,
   "id": "ab4482a1",
   "metadata": {},
   "outputs": [],
   "source": [
    "y = data['y']\n",
    "x1 = data['duration']"
   ]
  },
  {
   "cell_type": "markdown",
   "id": "dc7f27c9",
   "metadata": {},
   "source": [
    "# Simple Logistic Regression\n",
    "Run the regression and visualize it on a scatter plot (no need to plot the line)."
   ]
  },
  {
   "cell_type": "code",
   "execution_count": 9,
   "id": "59820085",
   "metadata": {},
   "outputs": [
    {
     "name": "stdout",
     "output_type": "stream",
     "text": [
      "Optimization terminated successfully.\n",
      "         Current function value: 0.546118\n",
      "         Iterations 7\n"
     ]
    },
    {
     "data": {
      "text/html": [
       "<table class=\"simpletable\">\n",
       "<caption>Logit Regression Results</caption>\n",
       "<tr>\n",
       "  <th>Dep. Variable:</th>           <td>y</td>        <th>  No. Observations:  </th>  <td>   518</td>  \n",
       "</tr>\n",
       "<tr>\n",
       "  <th>Model:</th>                 <td>Logit</td>      <th>  Df Residuals:      </th>  <td>   516</td>  \n",
       "</tr>\n",
       "<tr>\n",
       "  <th>Method:</th>                 <td>MLE</td>       <th>  Df Model:          </th>  <td>     1</td>  \n",
       "</tr>\n",
       "<tr>\n",
       "  <th>Date:</th>            <td>Mon, 14 Feb 2022</td> <th>  Pseudo R-squ.:     </th>  <td>0.2121</td>  \n",
       "</tr>\n",
       "<tr>\n",
       "  <th>Time:</th>                <td>20:44:44</td>     <th>  Log-Likelihood:    </th> <td> -282.89</td> \n",
       "</tr>\n",
       "<tr>\n",
       "  <th>converged:</th>             <td>True</td>       <th>  LL-Null:           </th> <td> -359.05</td> \n",
       "</tr>\n",
       "<tr>\n",
       "  <th>Covariance Type:</th>     <td>nonrobust</td>    <th>  LLR p-value:       </th> <td>5.387e-35</td>\n",
       "</tr>\n",
       "</table>\n",
       "<table class=\"simpletable\">\n",
       "<tr>\n",
       "      <td></td>        <th>coef</th>     <th>std err</th>      <th>z</th>      <th>P>|z|</th>  <th>[0.025</th>    <th>0.975]</th>  \n",
       "</tr>\n",
       "<tr>\n",
       "  <th>const</th>    <td>   -1.7001</td> <td>    0.192</td> <td>   -8.863</td> <td> 0.000</td> <td>   -2.076</td> <td>   -1.324</td>\n",
       "</tr>\n",
       "<tr>\n",
       "  <th>duration</th> <td>    0.0051</td> <td>    0.001</td> <td>    9.159</td> <td> 0.000</td> <td>    0.004</td> <td>    0.006</td>\n",
       "</tr>\n",
       "</table>"
      ],
      "text/plain": [
       "<class 'statsmodels.iolib.summary.Summary'>\n",
       "\"\"\"\n",
       "                           Logit Regression Results                           \n",
       "==============================================================================\n",
       "Dep. Variable:                      y   No. Observations:                  518\n",
       "Model:                          Logit   Df Residuals:                      516\n",
       "Method:                           MLE   Df Model:                            1\n",
       "Date:                Mon, 14 Feb 2022   Pseudo R-squ.:                  0.2121\n",
       "Time:                        20:44:44   Log-Likelihood:                -282.89\n",
       "converged:                       True   LL-Null:                       -359.05\n",
       "Covariance Type:            nonrobust   LLR p-value:                 5.387e-35\n",
       "==============================================================================\n",
       "                 coef    std err          z      P>|z|      [0.025      0.975]\n",
       "------------------------------------------------------------------------------\n",
       "const         -1.7001      0.192     -8.863      0.000      -2.076      -1.324\n",
       "duration       0.0051      0.001      9.159      0.000       0.004       0.006\n",
       "==============================================================================\n",
       "\"\"\""
      ]
     },
     "execution_count": 9,
     "metadata": {},
     "output_type": "execute_result"
    }
   ],
   "source": [
    "x = sm.add_constant(x1)\n",
    "reg_log = sm.Logit(y,x)\n",
    "results_log = reg_log.fit()\n",
    "results_log.summary()"
   ]
  },
  {
   "cell_type": "markdown",
   "id": "c41b97fd",
   "metadata": {},
   "source": [
    "# Plot The Scatter Plot"
   ]
  },
  {
   "cell_type": "code",
   "execution_count": 12,
   "id": "ddcbcac2",
   "metadata": {},
   "outputs": [
    {
     "data": {
      "image/png": "[encoded data removed]",
      "text/plain": [
       "<Figure size 432x288 with 1 Axes>"
      ]
     },
     "metadata": {},
     "output_type": "display_data"
    }
   ],
   "source": [
    "plt.scatter(x1,y,color = 'C1')\n",
    "plt.title(\"Duration Vs Subsription\",fontsize = 20)\n",
    "plt.xlabel('Duration', fontsize = 20)\n",
    "plt.ylabel('Subscription', fontsize = 20)\n",
    "plt.show()"
   ]
  },
  {
   "cell_type": "code",
   "execution_count": 13,
   "id": "2c59c093",
   "metadata": {},
   "outputs": [],
   "source": [
    "np.set_printoptions(formatter={'float': lambda x: \"{0:0.2f}\".format(x)})"
   ]
  },
  {
   "cell_type": "code",
   "execution_count": 14,
   "id": "9d3a28b2",
   "metadata": {},
   "outputs": [
    {
     "data": {
      "text/plain": [
       "array([0.25, 0.43, 0.30, 0.86, 0.29, 0.26, 0.22, 0.17, 0.87, 0.32, 0.55,\n",
       "       0.23, 0.30, 0.39, 0.35, 0.49, 0.29, 0.25, 0.51, 0.83, 0.84, 0.59,\n",
       "       0.46, 0.40, 0.45, 0.21, 0.42, 0.42, 0.58, 0.26, 0.18, 0.26, 0.86,\n",
       "       0.43, 0.29, 0.33, 0.98, 0.22, 1.00, 0.63, 0.26, 0.49, 0.31, 0.28,\n",
       "       0.29, 0.25, 0.20, 0.30, 0.31, 0.47, 0.87, 0.20, 0.22, 0.29, 0.26,\n",
       "       0.49, 0.28, 0.20, 0.89, 0.54, 0.24, 0.25, 0.90, 0.40, 0.51, 0.46,\n",
       "       0.28, 0.30, 0.87, 0.24, 0.18, 0.37, 0.47, 0.38, 0.54, 0.26, 0.41,\n",
       "       0.57, 0.29, 0.21, 0.34, 0.43, 0.30, 0.46, 0.41, 0.97, 0.30, 0.53,\n",
       "       0.40, 0.23, 0.36, 0.22, 0.37, 0.32, 0.77, 0.81, 0.80, 0.20, 0.98,\n",
       "       0.30, 0.93, 0.34, 0.89, 0.41, 0.50, 0.50, 0.42, 0.35, 0.42, 0.52,\n",
       "       0.54, 0.25, 0.31, 0.21, 0.74, 0.18, 0.25, 0.88, 0.60, 0.48, 0.23,\n",
       "       0.17, 0.40, 0.99, 0.48, 0.96, 0.36, 0.59, 0.34, 0.42, 0.29, 0.33,\n",
       "       0.48, 0.90, 0.46, 0.68, 0.57, 0.43, 0.43, 0.31, 0.26, 0.23, 0.84,\n",
       "       0.44, 0.84, 0.65, 0.38, 0.26, 1.00, 0.26, 0.96, 0.75, 0.97, 0.86,\n",
       "       0.20, 0.29, 0.82, 0.97, 0.82, 0.98, 0.47, 0.57, 0.93, 0.41, 0.31,\n",
       "       0.44, 0.29, 0.28, 0.22, 0.58, 0.67, 0.50, 0.45, 0.27, 0.29, 0.98,\n",
       "       0.33, 0.25, 0.61, 0.36, 0.52, 0.27, 0.43, 0.92, 0.26, 0.34, 0.17,\n",
       "       0.23, 1.00, 0.31, 0.33, 0.55, 0.22, 0.66, 0.34, 0.16, 0.70, 0.22,\n",
       "       0.68, 0.42, 0.28, 0.81, 0.49, 0.92, 0.26, 0.42, 0.48, 0.87, 0.43,\n",
       "       0.98, 0.35, 0.41, 0.93, 0.40, 0.22, 0.86, 0.89, 0.20, 0.34, 0.19,\n",
       "       0.59, 0.75, 0.20, 0.29, 0.89, 0.35, 0.82, 0.31, 0.99, 0.96, 0.65,\n",
       "       0.35, 0.54, 0.94, 0.82, 0.98, 0.37, 0.34, 0.51, 0.56, 0.28, 0.77,\n",
       "       0.23, 0.21, 0.97, 0.99, 0.61, 0.24, 0.94, 0.73, 0.31, 0.80, 0.21,\n",
       "       0.21, 0.28, 0.66, 0.38, 0.22, 0.54, 0.58, 0.66, 0.82, 1.00, 0.40,\n",
       "       0.30, 0.27, 0.52, 0.28, 0.73, 0.57, 0.90, 0.54, 0.75, 0.24, 0.99,\n",
       "       0.45, 0.75, 0.28, 0.42, 0.34, 0.90, 0.28, 0.94, 1.00, 0.40, 0.96,\n",
       "       0.21, 0.99, 0.41, 0.34, 0.29, 0.40, 0.65, 0.25, 0.47, 0.29, 0.32,\n",
       "       0.21, 0.21, 0.80, 0.48, 0.33, 0.32, 0.40, 0.32, 0.28, 0.36, 0.99,\n",
       "       0.76, 0.31, 0.29, 0.32, 0.19, 0.39, 0.96, 0.32, 0.97, 0.53, 0.77,\n",
       "       0.66, 0.31, 0.24, 0.25, 0.24, 0.21, 0.35, 0.49, 0.26, 1.00, 0.16,\n",
       "       0.99, 0.93, 0.99, 0.34, 0.20, 0.34, 0.86, 0.37, 0.85, 0.66, 0.67,\n",
       "       0.27, 0.99, 0.51, 0.18, 0.36, 0.77, 1.00, 0.36, 0.27, 0.55, 0.78,\n",
       "       0.20, 0.69, 0.79, 0.32, 0.61, 0.30, 0.16, 0.23, 0.33, 0.25, 0.33,\n",
       "       0.28, 0.61, 0.97, 0.39, 0.45, 0.58, 0.29, 1.00, 0.98, 0.44, 0.61,\n",
       "       0.59, 0.28, 0.36, 0.24, 0.92, 0.39, 0.48, 0.38, 0.32, 0.84, 0.37,\n",
       "       0.31, 0.50, 0.21, 0.28, 0.59, 0.28, 0.20, 0.64, 0.35, 0.98, 0.38,\n",
       "       0.41, 0.37, 0.56, 0.78, 0.51, 0.26, 0.55, 0.87, 0.22, 0.29, 0.53,\n",
       "       0.98, 0.51, 0.95, 0.59, 0.78, 0.72, 0.65, 0.40, 0.41, 0.68, 0.18,\n",
       "       0.73, 0.41, 0.73, 0.44, 0.56, 0.37, 0.52, 0.39, 0.60, 0.31, 0.51,\n",
       "       0.90, 0.87, 0.26, 0.57, 0.59, 0.42, 0.39, 0.27, 0.48, 0.44, 0.95,\n",
       "       0.24, 0.28, 0.37, 0.20, 0.84, 0.54, 0.41, 0.64, 0.84, 0.25, 0.83,\n",
       "       0.79, 0.27, 0.93, 0.24, 0.28, 0.97, 0.74, 0.29, 0.34, 0.30, 0.73,\n",
       "       0.54, 0.28, 0.30, 0.27, 0.24, 1.00, 0.39, 0.33, 0.68, 0.68, 0.40,\n",
       "       0.98, 0.66, 0.35, 0.33, 0.58, 0.36, 0.86, 0.19, 0.53, 0.46, 0.18,\n",
       "       0.98, 0.86, 0.82, 0.87, 0.80, 0.40, 0.24, 0.88, 0.81, 0.59, 0.21,\n",
       "       0.26, 0.32, 0.31, 0.49, 0.24, 0.67, 0.21, 0.27, 0.25, 0.30, 0.70,\n",
       "       0.54, 0.16, 0.91, 0.43, 0.68, 0.68, 0.37, 0.34, 0.92, 0.45, 0.67,\n",
       "       0.27])"
      ]
     },
     "execution_count": 14,
     "metadata": {},
     "output_type": "execute_result"
    }
   ],
   "source": [
    "results_log.predict()"
   ]
  },
  {
   "cell_type": "markdown",
   "id": "f72212eb",
   "metadata": {},
   "source": [
    "In the given column the answers are 'Yes' and 'No' and after we mapping to '0' and '1' so the predicted values will in '0'th column and '1'st column"
   ]
  },
  {
   "cell_type": "code",
   "execution_count": 15,
   "id": "4f679de3",
   "metadata": {},
   "outputs": [
    {
     "data": {
      "text/plain": [
       "array([[204.00, 55.00],\n",
       "       [104.00, 155.00]])"
      ]
     },
     "execution_count": 15,
     "metadata": {},
     "output_type": "execute_result"
    }
   ],
   "source": [
    "np.array(data['y'])\n",
    "results_log.pred_table()"
   ]
  },
  {
   "cell_type": "markdown",
   "id": "e6993e55",
   "metadata": {},
   "source": [
    "In last line we predict the values so now we have to calculate the actual value"
   ]
  },
  {
   "cell_type": "code",
   "execution_count": 16,
   "id": "c8bba3ea",
   "metadata": {},
   "outputs": [
    {
     "data": {
      "text/html": [
       "<div>\n",
       "<style scoped>\n",
       "    .dataframe tbody tr th:only-of-type {\n",
       "        vertical-align: middle;\n",
       "    }\n",
       "\n",
       "    .dataframe tbody tr th {\n",
       "        vertical-align: top;\n",
       "    }\n",
       "\n",
       "    .dataframe thead th {\n",
       "        text-align: right;\n",
       "    }\n",
       "</style>\n",
       "<table border=\"1\" class=\"dataframe\">\n",
       "  <thead>\n",
       "    <tr style=\"text-align: right;\">\n",
       "      <th></th>\n",
       "      <th>Predicted 0</th>\n",
       "      <th>Predicted 1</th>\n",
       "    </tr>\n",
       "  </thead>\n",
       "  <tbody>\n",
       "    <tr>\n",
       "      <th>Actual 0</th>\n",
       "      <td>204.0</td>\n",
       "      <td>55.0</td>\n",
       "    </tr>\n",
       "    <tr>\n",
       "      <th>Actual 1</th>\n",
       "      <td>104.0</td>\n",
       "      <td>155.0</td>\n",
       "    </tr>\n",
       "  </tbody>\n",
       "</table>\n",
       "</div>"
      ],
      "text/plain": [
       "          Predicted 0  Predicted 1\n",
       "Actual 0        204.0         55.0\n",
       "Actual 1        104.0        155.0"
      ]
     },
     "execution_count": 16,
     "metadata": {},
     "output_type": "execute_result"
    }
   ],
   "source": [
    "cm_df = pd.DataFrame(results_log.pred_table())\n",
    "cm_df.columns = ['Predicted 0','Predicted 1']\n",
    "cm_df = cm_df.rename(index={0: 'Actual 0',1:'Actual 1'})\n",
    "cm_df"
   ]
  },
  {
   "cell_type": "markdown",
   "id": "8c297ed7",
   "metadata": {},
   "source": [
    "# Test The Accuracy"
   ]
  },
  {
   "cell_type": "code",
   "execution_count": 17,
   "id": "c178c655",
   "metadata": {},
   "outputs": [
    {
     "data": {
      "text/plain": [
       "0.693050193050193"
      ]
     },
     "execution_count": 17,
     "metadata": {},
     "output_type": "execute_result"
    }
   ],
   "source": [
    "cm = np.array(cm_df)\n",
    "accuracy_train = (cm[0,0]+cm[1,1])/cm.sum()\n",
    "accuracy_train"
   ]
  },
  {
   "cell_type": "markdown",
   "id": "763b5315",
   "metadata": {},
   "source": [
    "# Conclusion :-\n",
    "                        In Logistic Regression after the prediction the output will be yes and no so the given the dataset we can analyse how many peoples are in yes category and no category and that we will find by duration i.e the duration is dependendent on y column. "
   ]
  }
 ],
 "metadata": {
  "kernelspec": {
   "display_name": "Python 3 (ipykernel)",
   "language": "python",
   "name": "python3"
  },
  "language_info": {
   "codemirror_mode": {
    "name": "ipython",
    "version": 3
   },
   "file_extension": ".py",
   "mimetype": "text/x-python",
   "name": "python",
   "nbconvert_exporter": "python",
   "pygments_lexer": "ipython3",
   "version": "3.7.11"
  }
 },
 "nbformat": 4,
 "nbformat_minor": 5
}
