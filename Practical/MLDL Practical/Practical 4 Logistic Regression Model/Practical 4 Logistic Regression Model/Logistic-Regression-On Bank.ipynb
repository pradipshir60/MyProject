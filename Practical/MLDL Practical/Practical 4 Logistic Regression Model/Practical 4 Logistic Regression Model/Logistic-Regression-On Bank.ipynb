{
 "cells": [
  {
   "cell_type": "markdown",
   "id": "659ccb1a",
   "metadata": {},
   "source": [
    "# Building a Logistic Regression\n",
    "Create a logistic regression based on the bank data provided.\n",
    "\n",
    "The data is based on the marketing campaign efforts of a Portuguese banking institution. The classification goal is to predict if the client will subscribe a term deposit (variable y).\n",
    "\n",
    "Note that the first column of the dataset is the index."
   ]
  },
  {
   "cell_type": "markdown",
   "id": "b256040e",
   "metadata": {},
   "source": [
    "# Import the relevant libraries"
   ]
  },
  {
   "cell_type": "code",
   "execution_count": null,
   "id": "3b495b07",
   "metadata": {},
   "outputs": [],
   "source": [
    "import numpy as np\n",
    "import pandas as pd\n",
    "import matplotlib.pyplot as plt\n",
    "import seaborn as sns\n",
    "import statsmodels.api as sm\n",
    "sns.set()\n",
    "\n",
    "from scipy import stats\n",
    "stats.chisqprob = lambda chisq, df: stats.chi2.sf(chisq, df)"
   ]
  },
  {
   "cell_type": "markdown",
   "id": "ef7c70da",
   "metadata": {},
   "source": [
    "# Loading The DataSets"
   ]
  },
  {
   "cell_type": "code",
   "execution_count": null,
   "id": "b3ec9fb2",
   "metadata": {},
   "outputs": [],
   "source": [
    "df = pd.read_csv(\"Example_bank_data.csv\")\n",
    "df.head()"
   ]
  },
  {
   "cell_type": "markdown",
   "id": "884175d1",
   "metadata": {},
   "source": [
    "We want to know whether the bank marketing strategy was successful, so we need to transform the outcome variable into 0s and 1s in order to perform a logistic regression."
   ]
  },
  {
   "cell_type": "markdown",
   "id": "5a056502",
   "metadata": {},
   "source": [
    "We make sure to create a copy of the data before we start altering itNote that we don't change the original data we loaded."
   ]
  },
  {
   "cell_type": "code",
   "execution_count": null,
   "id": "e7e40741",
   "metadata": {},
   "outputs": [],
   "source": [
    "data = df.copy()"
   ]
  },
  {
   "cell_type": "markdown",
   "id": "d1d88269",
   "metadata": {},
   "source": [
    "In the Given dataset Unnamed:0 is not used so we drop"
   ]
  },
  {
   "cell_type": "code",
   "execution_count": null,
   "id": "b878aa19",
   "metadata": {},
   "outputs": [],
   "source": [
    "data = data.drop(['Unnamed: 0'], axis = 1)\n",
    "data.head()"
   ]
  },
  {
   "cell_type": "markdown",
   "id": "2dd6d07a",
   "metadata": {},
   "source": [
    "We use the map function to change any 'yes' values to 1 and 'no' values to 0. "
   ]
  },
  {
   "cell_type": "code",
   "execution_count": null,
   "id": "0b3745cc",
   "metadata": {},
   "outputs": [],
   "source": [
    "data['y'] = data['y'].map({'yes':1, 'no':0})\n",
    "data.head()"
   ]
  },
  {
   "cell_type": "markdown",
   "id": "aa67f7fb",
   "metadata": {},
   "source": [
    "# Check the descriptive statistics"
   ]
  },
  {
   "cell_type": "code",
   "execution_count": null,
   "id": "60485305",
   "metadata": {},
   "outputs": [],
   "source": [
    "data.describe()"
   ]
  },
  {
   "cell_type": "markdown",
   "id": "f5cc0b39",
   "metadata": {},
   "source": [
    "# Declare The Dependent Variable And Independent"
   ]
  },
  {
   "cell_type": "code",
   "execution_count": null,
   "id": "ab4482a1",
   "metadata": {},
   "outputs": [],
   "source": [
    "y = data['y']\n",
    "x1 = data['duration']"
   ]
  },
  {
   "cell_type": "markdown",
   "id": "dc7f27c9",
   "metadata": {},
   "source": [
    "# Simple Logistic Regression\n",
    "Run the regression and visualize it on a scatter plot (no need to plot the line)."
   ]
  },
  {
   "cell_type": "code",
   "execution_count": null,
   "id": "59820085",
   "metadata": {},
   "outputs": [],
   "source": [
    "x = sm.add_constant(x1)\n",
    "reg_log = sm.Logit(y,x)\n",
    "results_log = reg_log.fit()\n",
    "results_log.summary()"
   ]
  },
  {
   "cell_type": "markdown",
   "id": "c41b97fd",
   "metadata": {},
   "source": [
    "# Plot The Scatter Plot"
   ]
  },
  {
   "cell_type": "code",
   "execution_count": null,
   "id": "ddcbcac2",
   "metadata": {},
   "outputs": [],
   "source": [
    "plt.scatter(x1,y,color = 'C1')\n",
    "plt.title(\"Duration Vs Subsription\",fontsize = 20)\n",
    "plt.xlabel('Duration', fontsize = 20)\n",
    "plt.ylabel('Subscription', fontsize = 20)\n",
    "plt.show()"
   ]
  },
  {
   "cell_type": "code",
   "execution_count": null,
   "id": "2c59c093",
   "metadata": {},
   "outputs": [],
   "source": [
    "np.set_printoptions(formatter={'float': lambda x: \"{0:0.2f}\".format(x)})"
   ]
  },
  {
   "cell_type": "code",
   "execution_count": null,
   "id": "9d3a28b2",
   "metadata": {},
   "outputs": [],
   "source": [
    "results_log.predict()"
   ]
  },
  {
   "cell_type": "markdown",
   "id": "f72212eb",
   "metadata": {},
   "source": [
    "In the given column the answers are 'Yes' and 'No' and after we mapping to '0' and '1' so the predicted values will in '0'th column and '1'st column"
   ]
  },
  {
   "cell_type": "code",
   "execution_count": null,
   "id": "4f679de3",
   "metadata": {},
   "outputs": [],
   "source": [
    "np.array(data['y'])\n",
    "results_log.pred_table()"
   ]
  },
  {
   "cell_type": "markdown",
   "id": "e6993e55",
   "metadata": {},
   "source": [
    "In last line we predict the values so now we have to calculate the actual value"
   ]
  },
  {
   "cell_type": "code",
   "execution_count": null,
   "id": "c8bba3ea",
   "metadata": {},
   "outputs": [],
   "source": [
    "cm_df = pd.DataFrame(results_log.pred_table())\n",
    "cm_df.columns = ['Predicted 0','Predicted 1']\n",
    "cm_df = cm_df.rename(index={0: 'Actual 0',1:'Actual 1'})\n",
    "cm_df"
   ]
  },
  {
   "cell_type": "markdown",
   "id": "8c297ed7",
   "metadata": {},
   "source": [
    "# Test The Accuracy"
   ]
  },
  {
   "cell_type": "code",
   "execution_count": null,
   "id": "c178c655",
   "metadata": {},
   "outputs": [],
   "source": [
    "cm = np.array(cm_df)\n",
    "accuracy_train = (cm[0,0]+cm[1,1])/cm.sum()\n",
    "accuracy_train"
   ]
  },
  {
   "cell_type": "markdown",
   "id": "763b5315",
   "metadata": {},
   "source": [
    "# Conclusion :-\n",
    "                        In Logistic Regression after the prediction the output will be yes and no so the given the dataset we can analyse how many peoples are in yes category and no category and that we will find by duration i.e the duration is dependendent on y column. "
   ]
  }
 ],
 "metadata": {
  "kernelspec": {
   "display_name": "Python 3 (ipykernel)",
   "language": "python",
   "name": "python3"
  },
  "language_info": {
   "codemirror_mode": {
    "name": "ipython",
    "version": 3
   },
   "file_extension": ".py",
   "mimetype": "text/x-python",
   "name": "python",
   "nbconvert_exporter": "python",
   "pygments_lexer": "ipython3",
   "version": "3.9.7"
  }
 },
 "nbformat": 4,
 "nbformat_minor": 5
}
