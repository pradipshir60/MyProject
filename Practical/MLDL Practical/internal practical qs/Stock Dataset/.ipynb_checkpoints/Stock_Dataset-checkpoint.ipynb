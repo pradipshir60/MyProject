{
 "cells": [
  {
   "cell_type": "markdown",
   "metadata": {},
   "source": [
    "In the following example, we will use multiple linear regression to predict the stock index price (i.e., the dependent variable) of a fictitious economy by using 2 independent/input variables:\n",
    "\n",
    "* Interest Rate\n",
    "* Unemployment Rate\n",
    "\n",
    "we will have to validate that several assumptions are met before we apply linear regression models. Most notably,we have to make sure that a linear relationship exists between the dependent variable and the independent variables."
   ]
  },
  {
   "cell_type": "markdown",
   "metadata": {
    "id": "ztLS9-gGJlNm"
   },
   "source": [
    "# Import Libraries"
   ]
  },
  {
   "cell_type": "code",
   "execution_count": null,
   "metadata": {
    "colab": {
     "base_uri": "https://localhost:8080/"
    },
    "id": "fg6c-jhwyuOm",
    "outputId": "81900ff3-1427-4826-cba0-09aba2aa001e"
   },
   "outputs": [],
   "source": [
    "import pandas as pd\n",
    "import matplotlib.pyplot as plt\n",
    "from sklearn import linear_model\n",
    "import statsmodels.api as sm\n",
    "import tkinter as tk\n",
    "from matplotlib.backends.backend_tkagg import FigureCanvasTkAgg"
   ]
  },
  {
   "cell_type": "markdown",
   "metadata": {
    "id": "pJmhpOxoJtPY"
   },
   "source": [
    "# Load Dataset"
   ]
  },
  {
   "cell_type": "code",
   "execution_count": null,
   "metadata": {
    "colab": {
     "base_uri": "https://localhost:8080/"
    },
    "id": "AgmsOC_yzN-c",
    "outputId": "701625d9-d6a1-4f1d-8512-2e09b6c2a856"
   },
   "outputs": [],
   "source": [
    "df = pd.read_excel('Stock_data.xlsx')\n",
    "print(df)"
   ]
  },
  {
   "cell_type": "markdown",
   "metadata": {},
   "source": [
    "# Checking for Linearity"
   ]
  },
  {
   "cell_type": "markdown",
   "metadata": {},
   "source": [
    "Before you execute a linear regression model, it is advisable to validate that certain assumptions are met.\n",
    "\n",
    "As noted earlier, you may want to check that a linear relationship exists between the dependent variable and the independent variable/s.\n",
    "\n",
    "In our example, you may want to check that a linear relationship exists between the:\n",
    "\n",
    "* Stock_Index_Price (dependent variable) and Interest_Rate (independent variable)\n",
    "* Stock_Index_Price (dependent variable) and Unemployment_Rate (independent variable)\n",
    "\n",
    "To perform a quick linearity check, you can use scatter diagrams (utilizing the matplotlib library). For example, you can use the code below in order to plot the relationship between the Stock_Index_Price and the Interest_Rate:"
   ]
  },
  {
   "cell_type": "code",
   "execution_count": null,
   "metadata": {
    "colab": {
     "base_uri": "https://localhost:8080/",
     "height": 300
    },
    "id": "5rkxb4-GJAgT",
    "outputId": "6bd9de47-2451-418b-c854-4201e9d41415"
   },
   "outputs": [],
   "source": [
    "plt.scatter(df['Interest Rate'], df['Stock_index_price'], color='red')\n",
    "plt.title('Stock Index Price Vs Interest Rate', fontsize=14)\n",
    "plt.xlabel('Interest Rate', fontsize=14)\n",
    "plt.ylabel('Stock Index Price', fontsize=14)\n",
    "plt.grid(True)\n",
    "plt.show()"
   ]
  },
  {
   "cell_type": "markdown",
   "metadata": {},
   "source": [
    "You’ll notice that indeed a linear relationship exists between the Stock_Index_Price and the Interest_Rate. Specifically, when interest rates go up, the stock index price also goes up:"
   ]
  },
  {
   "cell_type": "markdown",
   "metadata": {},
   "source": [
    "And for the second case, you can use this code in order to plot the relationship between the Stock_Index_Price and the Unemployment_Rate:"
   ]
  },
  {
   "cell_type": "code",
   "execution_count": null,
   "metadata": {
    "colab": {
     "base_uri": "https://localhost:8080/",
     "height": 300
    },
    "id": "2yhtGLfrKQ3m",
    "outputId": "177403d1-6147-40b9-f88c-5aa6a320fc5d"
   },
   "outputs": [],
   "source": [
    "plt.scatter(df['Unemployement_rate'], df['Stock_index_price'], color='green')\n",
    "plt.title('Stock Index Price Vs Unemployment Rate', fontsize=14)\n",
    "plt.xlabel('Unemployment Rate', fontsize=14)\n",
    "plt.ylabel('Stock Index Price', fontsize=14)\n",
    "plt.grid(True)\n",
    "plt.show()"
   ]
  },
  {
   "cell_type": "markdown",
   "metadata": {},
   "source": [
    "As you can see, a linear relationship also exists between the Stock_Index_Price and the Unemployment_Rate – when the unemployment rates go up, the stock index price goes down (here we still have a linear relationship, but with a negative slope):"
   ]
  },
  {
   "cell_type": "markdown",
   "metadata": {},
   "source": [
    "Next, we are going to perform the actual multiple linear regression in Python."
   ]
  },
  {
   "cell_type": "markdown",
   "metadata": {},
   "source": [
    "# Performing the Multiple Linear Regression\n",
    "Once you added the data into Python, you may use both sklearn and statsmodels to get the regression results.\n",
    "\n",
    "Either method would work, but let’s review both methods for illustration purposes.\n",
    "\n",
    "You may then copy the code below into Python:"
   ]
  },
  {
   "cell_type": "code",
   "execution_count": null,
   "metadata": {
    "id": "qpXQJLg2LDV7"
   },
   "outputs": [],
   "source": [
    "X = df[['Interest Rate','Unemployement_rate']] # here we have 2 variables for multiple regression. If you just want to use one variable for simple linear regression, then use X = df['Interest_Rate'] for example.Alternatively, you may add additional variables within the brackets\n",
    "Y = df['Stock_index_price']\n"
   ]
  },
  {
   "cell_type": "code",
   "execution_count": null,
   "metadata": {
    "colab": {
     "base_uri": "https://localhost:8080/"
    },
    "id": "ysN-TbGMLwi3",
    "outputId": "8f580abd-f1b5-4e20-87c0-52fe0b4920de"
   },
   "outputs": [],
   "source": [
    "# with sklearn\n",
    "regr = linear_model.LinearRegression()\n",
    "regr.fit(X.values, Y)"
   ]
  },
  {
   "cell_type": "code",
   "execution_count": null,
   "metadata": {
    "colab": {
     "base_uri": "https://localhost:8080/"
    },
    "id": "h0SToRtAL049",
    "outputId": "41af6454-34f3-4564-91fb-3b509c4b1c61"
   },
   "outputs": [],
   "source": [
    "print('Intercept: \\n', regr.intercept_)\n",
    "print('Coefficients: \\n', regr.coef_)"
   ]
  },
  {
   "cell_type": "code",
   "execution_count": null,
   "metadata": {
    "colab": {
     "base_uri": "https://localhost:8080/"
    },
    "id": "gmaZwp18MzN-",
    "outputId": "e425547c-5f5e-4157-974f-4cf88b1c30cd"
   },
   "outputs": [],
   "source": [
    "# prediction with sklearn\n",
    "New_Interest_Rate = 2.75\n",
    "New_Unemployment_Rate = 5.3\n",
    "print ('Predicted Stock Index Price: \\n', regr.predict([[New_Interest_Rate ,New_Unemployment_Rate]]))"
   ]
  },
  {
   "cell_type": "code",
   "execution_count": null,
   "metadata": {
    "colab": {
     "base_uri": "https://localhost:8080/"
    },
    "id": "7af5_vLjNc9c",
    "outputId": "adfaaea8-bbd5-46c3-b47c-a1aaae2c4dc7"
   },
   "outputs": [],
   "source": [
    "# with statsmodels\n",
    "X = sm.add_constant(X) # adding a constant"
   ]
  },
  {
   "cell_type": "code",
   "execution_count": null,
   "metadata": {
    "id": "5ZB-ziTiNikc"
   },
   "outputs": [],
   "source": [
    "model = sm.OLS(Y, X).fit()\n",
    "predictions = model.predict(X) "
   ]
  },
  {
   "cell_type": "code",
   "execution_count": null,
   "metadata": {
    "colab": {
     "base_uri": "https://localhost:8080/"
    },
    "id": "hvjIrfftNnkv",
    "outputId": "38f90f30-5351-48fb-82bc-16746ea1332e"
   },
   "outputs": [],
   "source": [
    "print_model = model.summary()\n",
    "print(print_model)"
   ]
  },
  {
   "attachments": {
    "image-2.png": {
     "image/png": "[encoded data removed]"
    },
    "image-3.png": {
     "image/png": "[encoded data removed]"
    },
    "image.png": {
     "image/png": "[encoded data removed]"
    }
   },
   "cell_type": "markdown",
   "metadata": {},
   "source": [
    "Once you run the code in Python, you’ll observe three parts:\n",
    "\n",
    "**(1) The first part shows the output generated by sklearn:**\n",
    "![image.png](attachment:image.png)\n",
    "\n",
    "This output includes the intercept and coefficients. You can use this information to build the multiple linear regression equation as follows:\n",
    "\n",
    "Stock_Index_Price = (Intercept) + (Interest_Rate coef)*X1 + (Unemployment_Rate coef)*X2\n",
    "\n",
    "And once you plug the numbers:\n",
    "\n",
    "Stock_Index_Price = (1798.4040) + (345.5401)*X1 + (-250.1466)*X2\n",
    "\n",
    "**(2) The second part displays the predicted output using sklearn:**\n",
    "![image-2.png](attachment:image-2.png)\n",
    "\n",
    "Imagine that you want to predict the stock index price after you collected the following data:\n",
    "\n",
    "* Interest Rate = 2.75 (i.e., X1= 2.75)\n",
    "* Unemployment Rate = 5.3 (i.e., X2= 5.3)\n",
    "\n",
    "If you plug that data into the regression equation, you’ll get the same predicted result as displayed in the second part:\n",
    "\n",
    "Stock_Index_Price = (1798.4040) + (345.5401)*(2.75) + (-250.1466)*(5.3) = 1422.86\n",
    "\n",
    "**(3) The third part displays a comprehensive table with statistical info generated by statsmodels.**\n",
    "\n",
    "This information can provide you additional insights about the model used (such as the fit of the model, standard errors, etc):\n",
    "![image-3.png](attachment:image-3.png)\n",
    "\n",
    "Notice that the coefficients captured in this table (highlighted in red) match with the coefficients generated by sklearn.\n",
    "\n",
    "That’s a good sign! we got consistent results by applying both sklearn and statsmodels."
   ]
  },
  {
   "cell_type": "markdown",
   "metadata": {},
   "source": [
    "Next, you’ll see how to create a GUI in Python to gather input from users, and then display the prediction results."
   ]
  },
  {
   "cell_type": "markdown",
   "metadata": {},
   "source": [
    "# GUI used for the Multiple Linear Regression in Python\n",
    "This is where the real fun begins!\n",
    "\n",
    "Why not create a Graphical User Interface (GUI) that will allow users to input the independent variables in order to get the predicted result?\n",
    "\n",
    "It may be that some of the users may not know much about inputting the data in the Python code itself, so it makes sense to create them a simple interface where they can manage the data in a simplified manner.\n",
    "\n",
    "You can even create a batch file to launch the Python program, and so the users will just need to double-click on the batch file in order to launch the GUI.\n",
    "\n",
    "Here is the full Python code for your ultimate Regression GUI:"
   ]
  },
  {
   "cell_type": "code",
   "execution_count": null,
   "metadata": {
    "id": "P4MUDH87OST3"
   },
   "outputs": [],
   "source": [
    "X = df[['Interest Rate','Unemployement_rate']].astype(float) # here we have 2 input variables for multiple regression. If you just want to use one variable for simple linear regression, then use X = df['Interest_Rate'] for example.Alternatively, you may add additional variables within the brackets\n",
    "Y = df['Stock_index_price'].astype(float) # output variable (what we are trying to predict)"
   ]
  },
  {
   "cell_type": "code",
   "execution_count": null,
   "metadata": {
    "colab": {
     "base_uri": "https://localhost:8080/"
    },
    "id": "mksX4_KhPGVU",
    "outputId": "409aa469-3c39-44c2-d68d-8493a47b920c"
   },
   "outputs": [],
   "source": [
    "# with sklearn\n",
    "regr = linear_model.LinearRegression()\n",
    "regr.fit(X, Y)"
   ]
  },
  {
   "cell_type": "code",
   "execution_count": null,
   "metadata": {
    "colab": {
     "base_uri": "https://localhost:8080/"
    },
    "id": "lwUxA0OOPLO6",
    "outputId": "31a48e5b-4591-4f89-917e-0a979125c2ab"
   },
   "outputs": [],
   "source": [
    "print('Intercept: \\n', regr.intercept_)\n",
    "print('Coefficients: \\n', regr.coef_)"
   ]
  },
  {
   "cell_type": "code",
   "execution_count": null,
   "metadata": {
    "colab": {
     "base_uri": "https://localhost:8080/",
     "height": 314
    },
    "id": "0-o2TPHrPQMN",
    "outputId": "4999d8ae-d377-4177-db28-49ea473182a1"
   },
   "outputs": [],
   "source": [
    "# tkinter GUI\n",
    "root= tk.Tk()"
   ]
  },
  {
   "cell_type": "code",
   "execution_count": null,
   "metadata": {},
   "outputs": [],
   "source": [
    "canvas1 = tk.Canvas(root, width = 500, height = 300)\n",
    "canvas1.pack()"
   ]
  },
  {
   "cell_type": "code",
   "execution_count": null,
   "metadata": {},
   "outputs": [],
   "source": [
    "# with sklearn\n",
    "Intercept_result = ('Intercept: ', regr.intercept_)\n",
    "label_Intercept = tk.Label(root, text=Intercept_result, justify = 'center')\n",
    "canvas1.create_window(260, 220, window=label_Intercept)"
   ]
  },
  {
   "cell_type": "code",
   "execution_count": null,
   "metadata": {},
   "outputs": [],
   "source": [
    "# with sklearn\n",
    "Coefficients_result  = ('Coefficients: ', regr.coef_)\n",
    "label_Coefficients = tk.Label(root, text=Coefficients_result, justify = 'center')\n",
    "canvas1.create_window(260, 240, window=label_Coefficients)"
   ]
  },
  {
   "cell_type": "code",
   "execution_count": null,
   "metadata": {},
   "outputs": [],
   "source": [
    "# New_Interest_Rate label and input box\n",
    "label1 = tk.Label(root, text='Type Interest Rate: ')\n",
    "canvas1.create_window(100, 100, window=label1)"
   ]
  },
  {
   "cell_type": "code",
   "execution_count": null,
   "metadata": {},
   "outputs": [],
   "source": [
    "entry1 = tk.Entry (root) # create 1st entry box\n",
    "canvas1.create_window(270, 100, window=entry1)"
   ]
  },
  {
   "cell_type": "code",
   "execution_count": null,
   "metadata": {},
   "outputs": [],
   "source": [
    "# New_Unemployment_Rate label and input box\n",
    "label2 = tk.Label(root, text=' Type Unemployment Rate: ')\n",
    "canvas1.create_window(120, 120, window=label2)\n"
   ]
  },
  {
   "cell_type": "code",
   "execution_count": null,
   "metadata": {},
   "outputs": [],
   "source": [
    "entry2 = tk.Entry (root) # create 2nd entry box\n",
    "canvas1.create_window(270, 120, window=entry2)"
   ]
  },
  {
   "cell_type": "code",
   "execution_count": null,
   "metadata": {},
   "outputs": [],
   "source": [
    "def values(): \n",
    "    global New_Interest_Rate #our 1st input variable\n",
    "    New_Interest_Rate = float(entry1.get()) \n",
    "    \n",
    "    global New_Unemployment_Rate #our 2nd input variable\n",
    "    New_Unemployment_Rate = float(entry2.get()) \n",
    "    \n",
    "    Prediction_result  = ('Predicted Stock Index Price: ', regr.predict([[New_Interest_Rate ,New_Unemployment_Rate]]))\n",
    "    label_Prediction = tk.Label(root, text= Prediction_result, bg='orange')\n",
    "    canvas1.create_window(260, 280, window=label_Prediction)\n",
    "    \n",
    "button1 = tk.Button (root, text='Predict Stock Index Price',command=values, bg='orange') # button to call the 'values' command above \n",
    "canvas1.create_window(270, 150, window=button1)\n",
    " "
   ]
  },
  {
   "cell_type": "code",
   "execution_count": null,
   "metadata": {},
   "outputs": [],
   "source": [
    "#plot 1st scatter \n",
    "figure3 = plt.Figure(figsize=(5,4), dpi=100)\n",
    "ax3 = figure3.add_subplot(111)\n",
    "ax3.scatter(df['Interest Rate'].astype(float),df['Stock_index_price'].astype(float), color = 'r')\n",
    "scatter3 = FigureCanvasTkAgg(figure3, root) \n",
    "scatter3.get_tk_widget().pack(side=tk.RIGHT, fill=tk.BOTH)\n",
    "ax3.legend(['Stock_Index_Price']) \n",
    "ax3.set_xlabel('Interest Rate')\n",
    "ax3.set_title('Interest Rate Vs. Stock Index Price')\n"
   ]
  },
  {
   "cell_type": "code",
   "execution_count": null,
   "metadata": {},
   "outputs": [],
   "source": [
    "#plot 2nd scatter \n",
    "figure4 = plt.Figure(figsize=(5,4), dpi=100)\n",
    "ax4 = figure4.add_subplot(111)\n",
    "ax4.scatter(df['Unemployement_rate'].astype(float),df['Stock_index_price'].astype(float), color = 'g')\n",
    "scatter4 = FigureCanvasTkAgg(figure4, root) \n",
    "scatter4.get_tk_widget().pack(side=tk.RIGHT, fill=tk.BOTH)\n",
    "ax4.legend(['Stock_Index_Price']) \n",
    "ax4.set_xlabel('Unemployement_Rate')\n",
    "ax4.set_title('Unemployment_Rate Vs. Stock Index Price')"
   ]
  },
  {
   "cell_type": "code",
   "execution_count": null,
   "metadata": {
    "scrolled": true
   },
   "outputs": [],
   "source": [
    "root.mainloop()"
   ]
  },
  {
   "cell_type": "markdown",
   "metadata": {},
   "source": [
    "Once you run the code, you’ll see the GUI, which includes the output generated by sklearn and the scatter diagrams\n",
    "\n",
    "Recall that earlier we made a prediction by using the following values:\n",
    "\n",
    "* Interest Rate = 2.75\n",
    "* Unemployment Rate = 5.3\n",
    "Type those values in the input boxes, and then click on the ‘Predict Stock Index Price’ button.\n",
    "\n",
    "You’ll now see the predicted result of 1422.86, which matches with the value you saw before."
   ]
  },
  {
   "cell_type": "markdown",
   "metadata": {},
   "source": [
    "# Conclusion"
   ]
  },
  {
   "cell_type": "markdown",
   "metadata": {},
   "source": [
    "Linear Regression is often used in Machine Learning. we have seen example of how to perform multiple linear regression in Python using both sklearn and statsmodels.\n",
    "\n",
    "Before applying linear regression models, make sure to check that a linear relationship exists between the dependent variable (i.e., what you are trying to predict) and the independent variables (i.e., the input variables)."
   ]
  },
  {
   "cell_type": "code",
   "execution_count": null,
   "metadata": {},
   "outputs": [],
   "source": []
  }
 ],
 "metadata": {
  "colab": {
   "name": "Stock Dataset(internal practical).ipynb",
   "provenance": []
  },
  "kernelspec": {
   "display_name": "Python 3 (ipykernel)",
   "language": "python",
   "name": "python3"
  },
  "language_info": {
   "codemirror_mode": {
    "name": "ipython",
    "version": 3
   },
   "file_extension": ".py",
   "mimetype": "text/x-python",
   "name": "python",
   "nbconvert_exporter": "python",
   "pygments_lexer": "ipython3",
   "version": "3.9.12"
  }
 },
 "nbformat": 4,
 "nbformat_minor": 1
}
