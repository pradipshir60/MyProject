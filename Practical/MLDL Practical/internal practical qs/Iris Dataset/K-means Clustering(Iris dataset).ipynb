{
 "cells": [
  {
   "cell_type": "markdown",
   "id": "088e25a7",
   "metadata": {},
   "source": [
    "**Problem:** Write a program to cluster a set of points using k-means. Consider, k=3,clusters. Consider Euclidean distance as the distance measure.Randomly initialize a cluster means as one of the data points.Iterate for 10 iterations.After iterations are over,print the final cluster means for each of the clusters.\n",
    "\n",
    "Dataset iris data set"
   ]
  },
  {
   "cell_type": "markdown",
   "id": "67aaee04",
   "metadata": {},
   "source": [
    "# Import libraries"
   ]
  },
  {
   "cell_type": "code",
   "execution_count": 1,
   "id": "47ce0120",
   "metadata": {},
   "outputs": [],
   "source": [
    "from sklearn import datasets\n",
    "import matplotlib.pyplot as plt\n",
    "import pandas as pd\n",
    "from sklearn.cluster import KMeans"
   ]
  },
  {
   "cell_type": "markdown",
   "id": "42321985",
   "metadata": {},
   "source": [
    "# Load data"
   ]
  },
  {
   "cell_type": "code",
   "execution_count": 2,
   "id": "ae6eb0b3",
   "metadata": {},
   "outputs": [],
   "source": [
    "# iris = pd.read_csv('iris_dataset1.csv')\n",
    "iris = datasets.load_iris()"
   ]
  },
  {
   "cell_type": "code",
   "execution_count": null,
   "id": "e26ba97b",
   "metadata": {},
   "outputs": [],
   "source": []
  }
 ],
 "metadata": {
  "kernelspec": {
   "display_name": "Python 3 (ipykernel)",
   "language": "python",
   "name": "python3"
  },
  "language_info": {
   "codemirror_mode": {
    "name": "ipython",
    "version": 3
   },
   "file_extension": ".py",
   "mimetype": "text/x-python",
   "name": "python",
   "nbconvert_exporter": "python",
   "pygments_lexer": "ipython3",
   "version": "3.9.7"
  }
 },
 "nbformat": 4,
 "nbformat_minor": 5
}
