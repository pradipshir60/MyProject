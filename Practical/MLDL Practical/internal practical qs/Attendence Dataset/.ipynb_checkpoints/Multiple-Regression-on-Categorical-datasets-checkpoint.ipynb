{
 "cells": [
  {
   "cell_type": "markdown",
   "id": "5a2cb183",
   "metadata": {},
   "source": [
    "# Dummy variables or how to deal with categorical predictors"
   ]
  },
  {
   "cell_type": "markdown",
   "id": "10aec30f",
   "metadata": {},
   "source": [
    "# Import Libraries"
   ]
  },
  {
   "cell_type": "code",
   "execution_count": 1,
   "id": "f1254deb",
   "metadata": {},
   "outputs": [],
   "source": [
    "import numpy as np\n",
    "import pandas as pd\n",
    "import matplotlib.pyplot as plt\n",
    "import statsmodels.api as sm\n",
    "import seaborn as sns"
   ]
  },
  {
   "cell_type": "markdown",
   "id": "02fee058",
   "metadata": {},
   "source": [
    "# Loading DataSet"
   ]
  },
  {
   "cell_type": "code",
   "execution_count": 2,
   "id": "00976903",
   "metadata": {},
   "outputs": [
    {
     "data": {
      "text/html": [
       "<div>\n",
       "<style scoped>\n",
       "    .dataframe tbody tr th:only-of-type {\n",
       "        vertical-align: middle;\n",
       "    }\n",
       "\n",
       "    .dataframe tbody tr th {\n",
       "        vertical-align: top;\n",
       "    }\n",
       "\n",
       "    .dataframe thead th {\n",
       "        text-align: right;\n",
       "    }\n",
       "</style>\n",
       "<table border=\"1\" class=\"dataframe\">\n",
       "  <thead>\n",
       "    <tr style=\"text-align: right;\">\n",
       "      <th></th>\n",
       "      <th>SAT</th>\n",
       "      <th>GPA</th>\n",
       "      <th>Attendance</th>\n",
       "    </tr>\n",
       "  </thead>\n",
       "  <tbody>\n",
       "    <tr>\n",
       "      <th>0</th>\n",
       "      <td>1714</td>\n",
       "      <td>2.40</td>\n",
       "      <td>No</td>\n",
       "    </tr>\n",
       "    <tr>\n",
       "      <th>1</th>\n",
       "      <td>1664</td>\n",
       "      <td>2.52</td>\n",
       "      <td>No</td>\n",
       "    </tr>\n",
       "    <tr>\n",
       "      <th>2</th>\n",
       "      <td>1760</td>\n",
       "      <td>2.54</td>\n",
       "      <td>No</td>\n",
       "    </tr>\n",
       "    <tr>\n",
       "      <th>3</th>\n",
       "      <td>1685</td>\n",
       "      <td>2.74</td>\n",
       "      <td>No</td>\n",
       "    </tr>\n",
       "    <tr>\n",
       "      <th>4</th>\n",
       "      <td>1693</td>\n",
       "      <td>2.83</td>\n",
       "      <td>No</td>\n",
       "    </tr>\n",
       "  </tbody>\n",
       "</table>\n",
       "</div>"
      ],
      "text/plain": [
       "    SAT   GPA Attendance\n",
       "0  1714  2.40         No\n",
       "1  1664  2.52         No\n",
       "2  1760  2.54         No\n",
       "3  1685  2.74         No\n",
       "4  1693  2.83         No"
      ]
     },
     "execution_count": 2,
     "metadata": {},
     "output_type": "execute_result"
    }
   ],
   "source": [
    "df = pd.read_csv('1.03.+Dummies (2).csv')\n",
    "df.head()"
   ]
  },
  {
   "cell_type": "markdown",
   "id": "8a5bcbb6",
   "metadata": {},
   "source": [
    "* As we can tell from the picture above, there is a third column named ‘Attendance’. It reflects if a student attended more than 75% of the lessons with two possibilities – Yes and No."
   ]
  },
  {
   "cell_type": "markdown",
   "id": "a39dfcbf",
   "metadata": {},
   "source": [
    "# Mapping Values"
   ]
  },
  {
   "cell_type": "code",
   "execution_count": 3,
   "id": "bc880d42",
   "metadata": {},
   "outputs": [],
   "source": [
    "# Note data is a copy of raw_data, because of how pointers in Python work\n",
    "data=df.copy()\n",
    "# Map all 'No' entries with 0, and all 'Yes' entries with 1. Put that in a new variable called 'data'\n",
    "data['Attendance']=data['Attendance'].map({'Yes':1,'No':0})"
   ]
  },
  {
   "cell_type": "code",
   "execution_count": 4,
   "id": "39f4dbd1",
   "metadata": {},
   "outputs": [
    {
     "data": {
      "text/html": [
       "<div>\n",
       "<style scoped>\n",
       "    .dataframe tbody tr th:only-of-type {\n",
       "        vertical-align: middle;\n",
       "    }\n",
       "\n",
       "    .dataframe tbody tr th {\n",
       "        vertical-align: top;\n",
       "    }\n",
       "\n",
       "    .dataframe thead th {\n",
       "        text-align: right;\n",
       "    }\n",
       "</style>\n",
       "<table border=\"1\" class=\"dataframe\">\n",
       "  <thead>\n",
       "    <tr style=\"text-align: right;\">\n",
       "      <th></th>\n",
       "      <th>SAT</th>\n",
       "      <th>GPA</th>\n",
       "      <th>Attendance</th>\n",
       "    </tr>\n",
       "  </thead>\n",
       "  <tbody>\n",
       "    <tr>\n",
       "      <th>0</th>\n",
       "      <td>1714</td>\n",
       "      <td>2.40</td>\n",
       "      <td>0</td>\n",
       "    </tr>\n",
       "    <tr>\n",
       "      <th>1</th>\n",
       "      <td>1664</td>\n",
       "      <td>2.52</td>\n",
       "      <td>0</td>\n",
       "    </tr>\n",
       "    <tr>\n",
       "      <th>2</th>\n",
       "      <td>1760</td>\n",
       "      <td>2.54</td>\n",
       "      <td>0</td>\n",
       "    </tr>\n",
       "    <tr>\n",
       "      <th>3</th>\n",
       "      <td>1685</td>\n",
       "      <td>2.74</td>\n",
       "      <td>0</td>\n",
       "    </tr>\n",
       "    <tr>\n",
       "      <th>4</th>\n",
       "      <td>1693</td>\n",
       "      <td>2.83</td>\n",
       "      <td>0</td>\n",
       "    </tr>\n",
       "    <tr>\n",
       "      <th>...</th>\n",
       "      <td>...</td>\n",
       "      <td>...</td>\n",
       "      <td>...</td>\n",
       "    </tr>\n",
       "    <tr>\n",
       "      <th>79</th>\n",
       "      <td>1936</td>\n",
       "      <td>3.71</td>\n",
       "      <td>1</td>\n",
       "    </tr>\n",
       "    <tr>\n",
       "      <th>80</th>\n",
       "      <td>1810</td>\n",
       "      <td>3.71</td>\n",
       "      <td>1</td>\n",
       "    </tr>\n",
       "    <tr>\n",
       "      <th>81</th>\n",
       "      <td>1987</td>\n",
       "      <td>3.73</td>\n",
       "      <td>0</td>\n",
       "    </tr>\n",
       "    <tr>\n",
       "      <th>82</th>\n",
       "      <td>1962</td>\n",
       "      <td>3.76</td>\n",
       "      <td>1</td>\n",
       "    </tr>\n",
       "    <tr>\n",
       "      <th>83</th>\n",
       "      <td>2050</td>\n",
       "      <td>3.81</td>\n",
       "      <td>1</td>\n",
       "    </tr>\n",
       "  </tbody>\n",
       "</table>\n",
       "<p>84 rows × 3 columns</p>\n",
       "</div>"
      ],
      "text/plain": [
       "     SAT   GPA  Attendance\n",
       "0   1714  2.40           0\n",
       "1   1664  2.52           0\n",
       "2   1760  2.54           0\n",
       "3   1685  2.74           0\n",
       "4   1693  2.83           0\n",
       "..   ...   ...         ...\n",
       "79  1936  3.71           1\n",
       "80  1810  3.71           1\n",
       "81  1987  3.73           0\n",
       "82  1962  3.76           1\n",
       "83  2050  3.81           1\n",
       "\n",
       "[84 rows x 3 columns]"
      ]
     },
     "execution_count": 4,
     "metadata": {},
     "output_type": "execute_result"
    }
   ],
   "source": [
    "data"
   ]
  },
  {
   "cell_type": "markdown",
   "id": "dbe782ed",
   "metadata": {},
   "source": [
    "* if the student attended more than 75% of the lessons, the dummy will be equal to 1. Otherwise, it will be a 0.\n",
    "\n",
    "* As we can see in the picture above, we have successfully created a dummy variable! The categorical data in the series was replaced or mapped to numerical."
   ]
  },
  {
   "cell_type": "markdown",
   "id": "51e2a150",
   "metadata": {},
   "source": [
    "# The Descriptive Statistics"
   ]
  },
  {
   "cell_type": "code",
   "execution_count": 5,
   "id": "612b75d8",
   "metadata": {},
   "outputs": [
    {
     "data": {
      "text/html": [
       "<div>\n",
       "<style scoped>\n",
       "    .dataframe tbody tr th:only-of-type {\n",
       "        vertical-align: middle;\n",
       "    }\n",
       "\n",
       "    .dataframe tbody tr th {\n",
       "        vertical-align: top;\n",
       "    }\n",
       "\n",
       "    .dataframe thead th {\n",
       "        text-align: right;\n",
       "    }\n",
       "</style>\n",
       "<table border=\"1\" class=\"dataframe\">\n",
       "  <thead>\n",
       "    <tr style=\"text-align: right;\">\n",
       "      <th></th>\n",
       "      <th>SAT</th>\n",
       "      <th>GPA</th>\n",
       "      <th>Attendance</th>\n",
       "    </tr>\n",
       "  </thead>\n",
       "  <tbody>\n",
       "    <tr>\n",
       "      <th>count</th>\n",
       "      <td>84.000000</td>\n",
       "      <td>84.000000</td>\n",
       "      <td>84.000000</td>\n",
       "    </tr>\n",
       "    <tr>\n",
       "      <th>mean</th>\n",
       "      <td>1845.273810</td>\n",
       "      <td>3.330238</td>\n",
       "      <td>0.464286</td>\n",
       "    </tr>\n",
       "    <tr>\n",
       "      <th>std</th>\n",
       "      <td>104.530661</td>\n",
       "      <td>0.271617</td>\n",
       "      <td>0.501718</td>\n",
       "    </tr>\n",
       "    <tr>\n",
       "      <th>min</th>\n",
       "      <td>1634.000000</td>\n",
       "      <td>2.400000</td>\n",
       "      <td>0.000000</td>\n",
       "    </tr>\n",
       "    <tr>\n",
       "      <th>25%</th>\n",
       "      <td>1772.000000</td>\n",
       "      <td>3.190000</td>\n",
       "      <td>0.000000</td>\n",
       "    </tr>\n",
       "    <tr>\n",
       "      <th>50%</th>\n",
       "      <td>1846.000000</td>\n",
       "      <td>3.380000</td>\n",
       "      <td>0.000000</td>\n",
       "    </tr>\n",
       "    <tr>\n",
       "      <th>75%</th>\n",
       "      <td>1934.000000</td>\n",
       "      <td>3.502500</td>\n",
       "      <td>1.000000</td>\n",
       "    </tr>\n",
       "    <tr>\n",
       "      <th>max</th>\n",
       "      <td>2050.000000</td>\n",
       "      <td>3.810000</td>\n",
       "      <td>1.000000</td>\n",
       "    </tr>\n",
       "  </tbody>\n",
       "</table>\n",
       "</div>"
      ],
      "text/plain": [
       "               SAT        GPA  Attendance\n",
       "count    84.000000  84.000000   84.000000\n",
       "mean   1845.273810   3.330238    0.464286\n",
       "std     104.530661   0.271617    0.501718\n",
       "min    1634.000000   2.400000    0.000000\n",
       "25%    1772.000000   3.190000    0.000000\n",
       "50%    1846.000000   3.380000    0.000000\n",
       "75%    1934.000000   3.502500    1.000000\n",
       "max    2050.000000   3.810000    1.000000"
      ]
     },
     "execution_count": 5,
     "metadata": {},
     "output_type": "execute_result"
    }
   ],
   "source": [
    "data.describe()"
   ]
  },
  {
   "cell_type": "markdown",
   "id": "4175e357",
   "metadata": {},
   "source": [
    "# Creating the Mutiple Regression\n",
    "\n",
    "* now we can create a regression that explains GPA taking  both SAT scores and attendance into consideration."
   ]
  },
  {
   "cell_type": "code",
   "execution_count": 6,
   "id": "d34e1471",
   "metadata": {},
   "outputs": [],
   "source": [
    "#  Following the regression equation, our dependent variable (y) is the GPA\n",
    "y=data['GPA']\n",
    "# Similarly, our independent variable (x) is the SAT score\n",
    "x1=data[['SAT','Attendance']]"
   ]
  },
  {
   "cell_type": "code",
   "execution_count": 7,
   "id": "c5a818dc",
   "metadata": {},
   "outputs": [
    {
     "data": {
      "text/html": [
       "<table class=\"simpletable\">\n",
       "<caption>OLS Regression Results</caption>\n",
       "<tr>\n",
       "  <th>Dep. Variable:</th>           <td>GPA</td>       <th>  R-squared:         </th> <td>   0.565</td>\n",
       "</tr>\n",
       "<tr>\n",
       "  <th>Model:</th>                   <td>OLS</td>       <th>  Adj. R-squared:    </th> <td>   0.555</td>\n",
       "</tr>\n",
       "<tr>\n",
       "  <th>Method:</th>             <td>Least Squares</td>  <th>  F-statistic:       </th> <td>   52.70</td>\n",
       "</tr>\n",
       "<tr>\n",
       "  <th>Date:</th>             <td>Thu, 14 Apr 2022</td> <th>  Prob (F-statistic):</th> <td>2.19e-15</td>\n",
       "</tr>\n",
       "<tr>\n",
       "  <th>Time:</th>                 <td>20:22:37</td>     <th>  Log-Likelihood:    </th> <td>  25.798</td>\n",
       "</tr>\n",
       "<tr>\n",
       "  <th>No. Observations:</th>      <td>    84</td>      <th>  AIC:               </th> <td>  -45.60</td>\n",
       "</tr>\n",
       "<tr>\n",
       "  <th>Df Residuals:</th>          <td>    81</td>      <th>  BIC:               </th> <td>  -38.30</td>\n",
       "</tr>\n",
       "<tr>\n",
       "  <th>Df Model:</th>              <td>     2</td>      <th>                     </th>     <td> </td>   \n",
       "</tr>\n",
       "<tr>\n",
       "  <th>Covariance Type:</th>      <td>nonrobust</td>    <th>                     </th>     <td> </td>   \n",
       "</tr>\n",
       "</table>\n",
       "<table class=\"simpletable\">\n",
       "<tr>\n",
       "       <td></td>         <th>coef</th>     <th>std err</th>      <th>t</th>      <th>P>|t|</th>  <th>[0.025</th>    <th>0.975]</th>  \n",
       "</tr>\n",
       "<tr>\n",
       "  <th>const</th>      <td>    0.6439</td> <td>    0.358</td> <td>    1.797</td> <td> 0.076</td> <td>   -0.069</td> <td>    1.357</td>\n",
       "</tr>\n",
       "<tr>\n",
       "  <th>SAT</th>        <td>    0.0014</td> <td>    0.000</td> <td>    7.141</td> <td> 0.000</td> <td>    0.001</td> <td>    0.002</td>\n",
       "</tr>\n",
       "<tr>\n",
       "  <th>Attendance</th> <td>    0.2226</td> <td>    0.041</td> <td>    5.451</td> <td> 0.000</td> <td>    0.141</td> <td>    0.304</td>\n",
       "</tr>\n",
       "</table>\n",
       "<table class=\"simpletable\">\n",
       "<tr>\n",
       "  <th>Omnibus:</th>       <td>19.560</td> <th>  Durbin-Watson:     </th> <td>   1.009</td>\n",
       "</tr>\n",
       "<tr>\n",
       "  <th>Prob(Omnibus):</th> <td> 0.000</td> <th>  Jarque-Bera (JB):  </th> <td>  27.189</td>\n",
       "</tr>\n",
       "<tr>\n",
       "  <th>Skew:</th>          <td>-1.028</td> <th>  Prob(JB):          </th> <td>1.25e-06</td>\n",
       "</tr>\n",
       "<tr>\n",
       "  <th>Kurtosis:</th>      <td> 4.881</td> <th>  Cond. No.          </th> <td>3.35e+04</td>\n",
       "</tr>\n",
       "</table><br/><br/>Notes:<br/>[1] Standard Errors assume that the covariance matrix of the errors is correctly specified.<br/>[2] The condition number is large, 3.35e+04. This might indicate that there are<br/>strong multicollinearity or other numerical problems."
      ],
      "text/plain": [
       "<class 'statsmodels.iolib.summary.Summary'>\n",
       "\"\"\"\n",
       "                            OLS Regression Results                            \n",
       "==============================================================================\n",
       "Dep. Variable:                    GPA   R-squared:                       0.565\n",
       "Model:                            OLS   Adj. R-squared:                  0.555\n",
       "Method:                 Least Squares   F-statistic:                     52.70\n",
       "Date:                Thu, 14 Apr 2022   Prob (F-statistic):           2.19e-15\n",
       "Time:                        20:22:37   Log-Likelihood:                 25.798\n",
       "No. Observations:                  84   AIC:                            -45.60\n",
       "Df Residuals:                      81   BIC:                            -38.30\n",
       "Df Model:                           2                                         \n",
       "Covariance Type:            nonrobust                                         \n",
       "==============================================================================\n",
       "                 coef    std err          t      P>|t|      [0.025      0.975]\n",
       "------------------------------------------------------------------------------\n",
       "const          0.6439      0.358      1.797      0.076      -0.069       1.357\n",
       "SAT            0.0014      0.000      7.141      0.000       0.001       0.002\n",
       "Attendance     0.2226      0.041      5.451      0.000       0.141       0.304\n",
       "==============================================================================\n",
       "Omnibus:                       19.560   Durbin-Watson:                   1.009\n",
       "Prob(Omnibus):                  0.000   Jarque-Bera (JB):               27.189\n",
       "Skew:                          -1.028   Prob(JB):                     1.25e-06\n",
       "Kurtosis:                       4.881   Cond. No.                     3.35e+04\n",
       "==============================================================================\n",
       "\n",
       "Notes:\n",
       "[1] Standard Errors assume that the covariance matrix of the errors is correctly specified.\n",
       "[2] The condition number is large, 3.35e+04. This might indicate that there are\n",
       "strong multicollinearity or other numerical problems.\n",
       "\"\"\""
      ]
     },
     "execution_count": 7,
     "metadata": {},
     "output_type": "execute_result"
    }
   ],
   "source": [
    "# Add a constant. Esentially, we are adding a new column (equal in lenght to x), which consists only of 1s\n",
    "x=sm.add_constant(x1)\n",
    "# # Fit the model, according to the OLS (ordinary least squares) method with a dependent variable y and an idependent x\n",
    "results=sm.OLS(y,x).fit()\n",
    "# Print a nice summary of the regression.\n",
    "results.summary()"
   ]
  },
  {
   "cell_type": "markdown",
   "id": "97ef5ecb",
   "metadata": {},
   "source": [
    "* As we can see in the picture below, our overall model is significant,the SAT score is significant, and the dummy variable is significant.\n",
    "\n",
    "*The adjusted R-squared of this model is 0.555, which is a great improvement from what we would get without attendance.*\n",
    "\n",
    "\n",
    "**A model without the dummy variable would be:**\n",
    "\n",
    "GPA = 0.275 + 0.0017 * the SAT score of a student.\n",
    "\n",
    "**The model, including the dummy variable is:**\n",
    "\n",
    "GPA = 0.6439 + 0.0014 * the SAT score of a student + 0.2226 * the dummy variable."
   ]
  },
  {
   "cell_type": "markdown",
   "id": "9b4e3c42",
   "metadata": {},
   "source": [
    "# Plot the regression line(s) on the scatter plot"
   ]
  },
  {
   "cell_type": "code",
   "execution_count": 8,
   "id": "75d3217b",
   "metadata": {},
   "outputs": [
    {
     "data": {
      "image/png": "[encoded data removed]",
      "text/plain": [
       "<Figure size 432x288 with 1 Axes>"
      ]
     },
     "metadata": {
      "needs_background": "light"
     },
     "output_type": "display_data"
    }
   ],
   "source": [
    "# Create a scatter plot of SAT and GPA\n",
    "plt.scatter(data['SAT'],y)\n",
    "# Define the two regression equations, depending on whether they attended (yes), or didn't (no)\n",
    "yhat_no = 0.6439 + 0.0014*data['SAT']\n",
    "yhat_yes = 0.8665 + 0.0014*data['SAT']\n",
    "# Plot the two regression lines\n",
    "fig = plt.plot(data['SAT'],yhat_no, lw=2, c='#006837')\n",
    "fig = plt.plot(data['SAT'],yhat_yes, lw=2, c='#a50026')\n",
    "# Name your axes :)\n",
    "plt.xlabel('SAT', fontsize = 20)\n",
    "plt.ylabel('GPA', fontsize = 20)\n",
    "plt.show()"
   ]
  },
  {
   "cell_type": "markdown",
   "id": "69a4c993",
   "metadata": {},
   "source": [
    "* So, what we observe above are two equations that have the same slope but a different intercept. The students who attended are spread around the upper line.\n",
    "\n",
    "* On average, their GPA is 0.2226 higher than the GPA of students who did not attend."
   ]
  },
  {
   "cell_type": "markdown",
   "id": "06a70361",
   "metadata": {},
   "source": [
    "# Plot the regression line(s) on the scatter plot and color the data points"
   ]
  },
  {
   "cell_type": "code",
   "execution_count": 9,
   "id": "c827d90a",
   "metadata": {},
   "outputs": [
    {
     "data": {
      "image/png": "[encoded data removed]",
      "text/plain": [
       "<Figure size 432x288 with 1 Axes>"
      ]
     },
     "metadata": {
      "needs_background": "light"
     },
     "output_type": "display_data"
    }
   ],
   "source": [
    "# Create one scatter plot which contains all observations\n",
    "# Use the series 'Attendance' as color, and choose a colour map of your choice\n",
    "# The colour map we've chosen is completely arbitrary\n",
    "plt.scatter(data['SAT'],data['GPA'], c=data['Attendance'],cmap='RdYlGn_r')\n",
    "\n",
    "# Define the two regression equations (one with a dummy = 1, the other with dummy = 0)\n",
    "# We have those above already, but for the sake of consistency, we will also include them here\n",
    "yhat_no = 0.6439 + 0.0014*data['SAT']\n",
    "yhat_yes = 0.8665 + 0.0014*data['SAT']\n",
    "\n",
    "# Plot the two regression lines\n",
    "fig = plt.plot(data['SAT'],yhat_no, lw=2, c='#006837')\n",
    "fig = plt.plot(data['SAT'],yhat_yes, lw=2, c='#a50026')\n",
    "plt.xlabel('SAT', fontsize = 20)\n",
    "plt.ylabel('GPA', fontsize = 20)\n",
    "plt.show()"
   ]
  },
  {
   "cell_type": "markdown",
   "id": "d6d89adc",
   "metadata": {},
   "source": [
    "1. students who attended classes-red line \n",
    "2. students who did not attend-green line."
   ]
  },
  {
   "cell_type": "markdown",
   "id": "ad1ed75e",
   "metadata": {},
   "source": [
    "# Add the original regression line\n",
    "Finally, we will put the original regression line on the graph."
   ]
  },
  {
   "cell_type": "code",
   "execution_count": 10,
   "id": "b25e923c",
   "metadata": {},
   "outputs": [
    {
     "data": {
      "image/png": "[encoded data removed]",
      "text/plain": [
       "<Figure size 432x288 with 1 Axes>"
      ]
     },
     "metadata": {
      "needs_background": "light"
     },
     "output_type": "display_data"
    }
   ],
   "source": [
    "# Create one scatter plot which contains all observations\n",
    "# Use the series 'Attendance' as color, and choose a colour map of your choice\n",
    "# The colour map we've chosen is completely arbitrary\n",
    "plt.scatter(data['SAT'],data['GPA'], c=data['Attendance'],cmap='RdYlGn_r')\n",
    "\n",
    "# Define the two regression equations (one with a dummy = 1, the other with dummy = 0)\n",
    "# We have those above already, but for the sake of consistency, we will also include them here\n",
    "yhat_no = 0.6439 + 0.0014*data['SAT']\n",
    "yhat_yes = 0.8665 + 0.0014*data['SAT']\n",
    "# Original regression line\n",
    "yhat = 0.0017*data['SAT'] + 0.275\n",
    "\n",
    "# Plot the two regression lines\n",
    "fig = plt.plot(data['SAT'],yhat_no, lw=2, c='#006837', label ='regression line1')\n",
    "fig = plt.plot(data['SAT'],yhat_yes, lw=2, c='#a50026', label ='regression line2')\n",
    "# Plot the original regression line\n",
    "fig = plt.plot(data['SAT'],yhat, lw=3, c='#4C72B0', label ='regression line')\n",
    "\n",
    "plt.xlabel('SAT', fontsize = 20)\n",
    "plt.ylabel('GPA', fontsize = 20)\n",
    "plt.show()"
   ]
  },
  {
   "cell_type": "markdown",
   "id": "e19afc93",
   "metadata": {},
   "source": [
    "We can clearly see the difference now.\n",
    "\n",
    "* As we can see, it is steeper and goes somewhat between the two lines of the dummies."
   ]
  },
  {
   "cell_type": "markdown",
   "id": "d0cc16bb",
   "metadata": {},
   "source": [
    "How to make predictions based on the regressions we create\n",
    "To use this model for prediction purposes, we need two pieces of information: an SAT score and whether a person attended more than 75% of their lectures."
   ]
  },
  {
   "cell_type": "code",
   "execution_count": 11,
   "id": "ac916e59",
   "metadata": {},
   "outputs": [
    {
     "data": {
      "text/html": [
       "<div>\n",
       "<style scoped>\n",
       "    .dataframe tbody tr th:only-of-type {\n",
       "        vertical-align: middle;\n",
       "    }\n",
       "\n",
       "    .dataframe tbody tr th {\n",
       "        vertical-align: top;\n",
       "    }\n",
       "\n",
       "    .dataframe thead th {\n",
       "        text-align: right;\n",
       "    }\n",
       "</style>\n",
       "<table border=\"1\" class=\"dataframe\">\n",
       "  <thead>\n",
       "    <tr style=\"text-align: right;\">\n",
       "      <th></th>\n",
       "      <th>const</th>\n",
       "      <th>SAT</th>\n",
       "      <th>Attendance</th>\n",
       "    </tr>\n",
       "  </thead>\n",
       "  <tbody>\n",
       "    <tr>\n",
       "      <th>0</th>\n",
       "      <td>1.0</td>\n",
       "      <td>1714</td>\n",
       "      <td>0</td>\n",
       "    </tr>\n",
       "    <tr>\n",
       "      <th>1</th>\n",
       "      <td>1.0</td>\n",
       "      <td>1664</td>\n",
       "      <td>0</td>\n",
       "    </tr>\n",
       "    <tr>\n",
       "      <th>2</th>\n",
       "      <td>1.0</td>\n",
       "      <td>1760</td>\n",
       "      <td>0</td>\n",
       "    </tr>\n",
       "    <tr>\n",
       "      <th>3</th>\n",
       "      <td>1.0</td>\n",
       "      <td>1685</td>\n",
       "      <td>0</td>\n",
       "    </tr>\n",
       "    <tr>\n",
       "      <th>4</th>\n",
       "      <td>1.0</td>\n",
       "      <td>1693</td>\n",
       "      <td>0</td>\n",
       "    </tr>\n",
       "    <tr>\n",
       "      <th>...</th>\n",
       "      <td>...</td>\n",
       "      <td>...</td>\n",
       "      <td>...</td>\n",
       "    </tr>\n",
       "    <tr>\n",
       "      <th>79</th>\n",
       "      <td>1.0</td>\n",
       "      <td>1936</td>\n",
       "      <td>1</td>\n",
       "    </tr>\n",
       "    <tr>\n",
       "      <th>80</th>\n",
       "      <td>1.0</td>\n",
       "      <td>1810</td>\n",
       "      <td>1</td>\n",
       "    </tr>\n",
       "    <tr>\n",
       "      <th>81</th>\n",
       "      <td>1.0</td>\n",
       "      <td>1987</td>\n",
       "      <td>0</td>\n",
       "    </tr>\n",
       "    <tr>\n",
       "      <th>82</th>\n",
       "      <td>1.0</td>\n",
       "      <td>1962</td>\n",
       "      <td>1</td>\n",
       "    </tr>\n",
       "    <tr>\n",
       "      <th>83</th>\n",
       "      <td>1.0</td>\n",
       "      <td>2050</td>\n",
       "      <td>1</td>\n",
       "    </tr>\n",
       "  </tbody>\n",
       "</table>\n",
       "<p>84 rows × 3 columns</p>\n",
       "</div>"
      ],
      "text/plain": [
       "    const   SAT  Attendance\n",
       "0     1.0  1714           0\n",
       "1     1.0  1664           0\n",
       "2     1.0  1760           0\n",
       "3     1.0  1685           0\n",
       "4     1.0  1693           0\n",
       "..    ...   ...         ...\n",
       "79    1.0  1936           1\n",
       "80    1.0  1810           1\n",
       "81    1.0  1987           0\n",
       "82    1.0  1962           1\n",
       "83    1.0  2050           1\n",
       "\n",
       "[84 rows x 3 columns]"
      ]
     },
     "execution_count": 11,
     "metadata": {},
     "output_type": "execute_result"
    }
   ],
   "source": [
    "# Let's see what's inside the independent variable. \n",
    "# The first column comes from the 'add_constant' method. It's only 1s, told ya! \n",
    "x"
   ]
  },
  {
   "cell_type": "code",
   "execution_count": 12,
   "id": "fa219d3e",
   "metadata": {},
   "outputs": [
    {
     "data": {
      "text/html": [
       "<div>\n",
       "<style scoped>\n",
       "    .dataframe tbody tr th:only-of-type {\n",
       "        vertical-align: middle;\n",
       "    }\n",
       "\n",
       "    .dataframe tbody tr th {\n",
       "        vertical-align: top;\n",
       "    }\n",
       "\n",
       "    .dataframe thead th {\n",
       "        text-align: right;\n",
       "    }\n",
       "</style>\n",
       "<table border=\"1\" class=\"dataframe\">\n",
       "  <thead>\n",
       "    <tr style=\"text-align: right;\">\n",
       "      <th></th>\n",
       "      <th>const</th>\n",
       "      <th>SAT</th>\n",
       "      <th>Attendance</th>\n",
       "    </tr>\n",
       "  </thead>\n",
       "  <tbody>\n",
       "    <tr>\n",
       "      <th>0</th>\n",
       "      <td>1</td>\n",
       "      <td>1700</td>\n",
       "      <td>0</td>\n",
       "    </tr>\n",
       "    <tr>\n",
       "      <th>1</th>\n",
       "      <td>1</td>\n",
       "      <td>1670</td>\n",
       "      <td>1</td>\n",
       "    </tr>\n",
       "  </tbody>\n",
       "</table>\n",
       "</div>"
      ],
      "text/plain": [
       "   const   SAT  Attendance\n",
       "0      1  1700           0\n",
       "1      1  1670           1"
      ]
     },
     "execution_count": 12,
     "metadata": {},
     "output_type": "execute_result"
    }
   ],
   "source": [
    "# Create a new data frame, identical in organization to X.\n",
    "# The constant is always 1, while each of the lines corresponds to an observation (student)\n",
    "new_data = pd.DataFrame({'const': 1,'SAT': [1700, 1670], 'Attendance': [0, 1]})\n",
    "\n",
    "# By default, when you create a df (not load, but create), the columns are sorted alphabetically\n",
    "# So if we don't reorder them, they would be 'Attendance', 'const', 'SAT'\n",
    "# If you feed them in the wrong order, you will get wrong results!\n",
    "new_data = new_data[['const','SAT','Attendance']]\n",
    "new_data"
   ]
  },
  {
   "cell_type": "code",
   "execution_count": 13,
   "id": "59710ee6",
   "metadata": {},
   "outputs": [
    {
     "data": {
      "text/html": [
       "<div>\n",
       "<style scoped>\n",
       "    .dataframe tbody tr th:only-of-type {\n",
       "        vertical-align: middle;\n",
       "    }\n",
       "\n",
       "    .dataframe tbody tr th {\n",
       "        vertical-align: top;\n",
       "    }\n",
       "\n",
       "    .dataframe thead th {\n",
       "        text-align: right;\n",
       "    }\n",
       "</style>\n",
       "<table border=\"1\" class=\"dataframe\">\n",
       "  <thead>\n",
       "    <tr style=\"text-align: right;\">\n",
       "      <th></th>\n",
       "      <th>const</th>\n",
       "      <th>SAT</th>\n",
       "      <th>Attendance</th>\n",
       "    </tr>\n",
       "  </thead>\n",
       "  <tbody>\n",
       "    <tr>\n",
       "      <th>Bob</th>\n",
       "      <td>1</td>\n",
       "      <td>1700</td>\n",
       "      <td>0</td>\n",
       "    </tr>\n",
       "    <tr>\n",
       "      <th>Alice</th>\n",
       "      <td>1</td>\n",
       "      <td>1670</td>\n",
       "      <td>1</td>\n",
       "    </tr>\n",
       "  </tbody>\n",
       "</table>\n",
       "</div>"
      ],
      "text/plain": [
       "       const   SAT  Attendance\n",
       "Bob        1  1700           0\n",
       "Alice      1  1670           1"
      ]
     },
     "execution_count": 13,
     "metadata": {},
     "output_type": "execute_result"
    }
   ],
   "source": [
    "# I am renaming the indices for the purposes of this example.\n",
    "# That's by not really a good practice => I won't overwrite the variable.\n",
    "# If I want to use NumPy, sklearn, etc. methods on a df with renamed indices, they will simply be lost\n",
    "# and returned to 0,1,2,3, etc.\n",
    "new_data.rename(index={0: 'Bob',1:'Alice'})"
   ]
  },
  {
   "cell_type": "code",
   "execution_count": 14,
   "id": "863dbf84",
   "metadata": {},
   "outputs": [
    {
     "data": {
      "text/plain": [
       "0    3.023513\n",
       "1    3.204163\n",
       "dtype: float64"
      ]
     },
     "execution_count": 14,
     "metadata": {},
     "output_type": "execute_result"
    }
   ],
   "source": [
    "# Use the predict method on the regression with the new data as a single argument\n",
    "predictions = results.predict(new_data)\n",
    "# The result\n",
    "predictions"
   ]
  },
  {
   "cell_type": "code",
   "execution_count": 15,
   "id": "887b3c2e",
   "metadata": {},
   "outputs": [
    {
     "data": {
      "text/html": [
       "<div>\n",
       "<style scoped>\n",
       "    .dataframe tbody tr th:only-of-type {\n",
       "        vertical-align: middle;\n",
       "    }\n",
       "\n",
       "    .dataframe tbody tr th {\n",
       "        vertical-align: top;\n",
       "    }\n",
       "\n",
       "    .dataframe thead th {\n",
       "        text-align: right;\n",
       "    }\n",
       "</style>\n",
       "<table border=\"1\" class=\"dataframe\">\n",
       "  <thead>\n",
       "    <tr style=\"text-align: right;\">\n",
       "      <th></th>\n",
       "      <th>const</th>\n",
       "      <th>SAT</th>\n",
       "      <th>Attendance</th>\n",
       "      <th>Predictions</th>\n",
       "    </tr>\n",
       "  </thead>\n",
       "  <tbody>\n",
       "    <tr>\n",
       "      <th>Bob</th>\n",
       "      <td>1</td>\n",
       "      <td>1700</td>\n",
       "      <td>0</td>\n",
       "      <td>3.023513</td>\n",
       "    </tr>\n",
       "    <tr>\n",
       "      <th>Alice</th>\n",
       "      <td>1</td>\n",
       "      <td>1670</td>\n",
       "      <td>1</td>\n",
       "      <td>3.204163</td>\n",
       "    </tr>\n",
       "  </tbody>\n",
       "</table>\n",
       "</div>"
      ],
      "text/plain": [
       "       const   SAT  Attendance  Predictions\n",
       "Bob        1  1700           0     3.023513\n",
       "Alice      1  1670           1     3.204163"
      ]
     },
     "execution_count": 15,
     "metadata": {},
     "output_type": "execute_result"
    }
   ],
   "source": [
    "# If we want we can create a data frame, including everything\n",
    "predictionsdf = pd.DataFrame({'Predictions':predictions})\n",
    "# Join the two data frames\n",
    "joined = new_data.join(predictionsdf)\n",
    "# Rename the indices as before (not a good practice in general) \n",
    "joined.rename(index={0: 'Bob',1:'Alice'})"
   ]
  },
  {
   "cell_type": "markdown",
   "id": "ccd0c7c6",
   "metadata": {},
   "source": [
    "We can see that , **the predicted GPA at graduation for Bob is 3.02 , and for Alice is 3.20**"
   ]
  }
 ],
 "metadata": {
  "kernelspec": {
   "display_name": "Python 3 (ipykernel)",
   "language": "python",
   "name": "python3"
  },
  "language_info": {
   "codemirror_mode": {
    "name": "ipython",
    "version": 3
   },
   "file_extension": ".py",
   "mimetype": "text/x-python",
   "name": "python",
   "nbconvert_exporter": "python",
   "pygments_lexer": "ipython3",
   "version": "3.9.12"
  }
 },
 "nbformat": 4,
 "nbformat_minor": 5
}
