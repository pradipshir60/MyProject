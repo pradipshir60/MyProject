{
 "cells": [
  {
   "cell_type": "markdown",
   "id": "3312be82",
   "metadata": {},
   "source": [
    "# Importing The Libraries"
   ]
  },
  {
   "cell_type": "code",
   "execution_count": null,
   "id": "61d08951",
   "metadata": {},
   "outputs": [],
   "source": [
    "from numpy import loadtxt\n",
    "from keras.models import Sequential\n",
    "from keras.layers import Dense"
   ]
  },
  {
   "cell_type": "markdown",
   "id": "0211395e",
   "metadata": {},
   "source": [
    "# Load The DataSets"
   ]
  },
  {
   "cell_type": "code",
   "execution_count": null,
   "id": "3b40e3f4",
   "metadata": {},
   "outputs": [],
   "source": [
    "dataset = loadtxt('pima-indians-diabetes.csv',delimiter=',')"
   ]
  },
  {
   "cell_type": "code",
   "execution_count": null,
   "id": "19594f98",
   "metadata": {},
   "outputs": [],
   "source": [
    "dataset"
   ]
  },
  {
   "cell_type": "markdown",
   "id": "94ecd9bc",
   "metadata": {},
   "source": [
    "# Split Into Input (X) and Output (y) Variable"
   ]
  },
  {
   "cell_type": "code",
   "execution_count": null,
   "id": "9c40cf04",
   "metadata": {},
   "outputs": [],
   "source": [
    "X = dataset[:,0:8]\n",
    "y = dataset[:,8]"
   ]
  },
  {
   "cell_type": "markdown",
   "id": "2ff04da1",
   "metadata": {},
   "source": [
    "# Define The Keras Model"
   ]
  },
  {
   "cell_type": "code",
   "execution_count": null,
   "id": "e9235155",
   "metadata": {},
   "outputs": [],
   "source": [
    "model = Sequential()"
   ]
  },
  {
   "cell_type": "code",
   "execution_count": null,
   "id": "8b6c3263",
   "metadata": {},
   "outputs": [],
   "source": [
    "model.add(Dense(12,input_dim=8,activation='relu'))\n",
    "model.add(Dense(8,activation='relu'))\n",
    "model.add(Dense(1,activation='sigmoid'))\n",
    "model.compile(loss='binary_crossentropy',optimizer='adam',metrics=['accuracy'])"
   ]
  },
  {
   "cell_type": "markdown",
   "id": "8ab78ecc",
   "metadata": {},
   "source": [
    "# Fit The Keras Model In DataSet"
   ]
  },
  {
   "cell_type": "code",
   "execution_count": null,
   "id": "ee43f406",
   "metadata": {},
   "outputs": [],
   "source": [
    "model.fit(X,y,epochs=150,batch_size=10)"
   ]
  },
  {
   "cell_type": "markdown",
   "id": "b69e2494",
   "metadata": {},
   "source": [
    "# Evaluate The Keras Model"
   ]
  },
  {
   "cell_type": "code",
   "execution_count": null,
   "id": "9e2e7dbd",
   "metadata": {},
   "outputs": [],
   "source": [
    "_,accuracy = model.evaluate(X,y)\n",
    "\n",
    "print('Accuracy: %2f'%(accuracy*100))"
   ]
  },
  {
   "cell_type": "code",
   "execution_count": null,
   "id": "cc00ba90",
   "metadata": {},
   "outputs": [],
   "source": [
    "model.summary()"
   ]
  }
 ],
 "metadata": {
  "kernelspec": {
   "display_name": "Python 3 (ipykernel)",
   "language": "python",
   "name": "python3"
  },
  "language_info": {
   "codemirror_mode": {
    "name": "ipython",
    "version": 3
   },
   "file_extension": ".py",
   "mimetype": "text/x-python",
   "name": "python",
   "nbconvert_exporter": "python",
   "pygments_lexer": "ipython3",
   "version": "3.9.7"
  }
 },
 "nbformat": 4,
 "nbformat_minor": 5
}
